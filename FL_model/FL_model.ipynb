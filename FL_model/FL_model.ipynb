{
 "cells": [
  {
   "cell_type": "code",
   "execution_count": 3,
   "id": "446df1ac-892e-409f-b351-8699f8ad15ec",
   "metadata": {},
   "outputs": [
    {
     "name": "stdout",
     "output_type": "stream",
     "text": [
      "Defaulting to user installation because normal site-packages is not writeable\n",
      "Requirement already satisfied: pip in c:\\users\\mhima\\appdata\\roaming\\python\\python313\\site-packages (25.2)\n",
      "Defaulting to user installation because normal site-packages is not writeable\n",
      "Python: D:\\Anaconda3\\envs\\fedci\\python.exe 3.10.18\n",
      "TensorFlow: 2.15.0\n"
     ]
    },
    {
     "name": "stderr",
     "output_type": "stream",
     "text": [
      "ERROR: Could not find a version that satisfies the requirement tensorflow==2.15.0 (from versions: 2.20.0rc0, 2.20.0)\n",
      "ERROR: No matching distribution found for tensorflow==2.15.0\n"
     ]
    }
   ],
   "source": [
    "# Install once in this kernel\n",
    "!pip install -U pip\n",
    "!pip install tensorflow==2.15.0 numpy pandas matplotlib\n",
    "\n",
    "import tensorflow as tf, sys, platform\n",
    "print(\"Python:\", sys.executable, platform.python_version())\n",
    "print(\"TensorFlow:\", tf.__version__)\n",
    "from tensorflow.keras import layers, models\n"
   ]
  },
  {
   "cell_type": "code",
   "execution_count": 8,
   "id": "5d6d1616-f925-4ce4-bbdd-4a23b6a06a9f",
   "metadata": {},
   "outputs": [
    {
     "name": "stdout",
     "output_type": "stream",
     "text": [
      "Python: D:\\Anaconda3\\envs\\fedci\\python.exe 3.10.18\n",
      "TensorFlow: 2.15.0\n"
     ]
    }
   ],
   "source": [
    "import os, glob, json, time, math, sys, platform\n",
    "import numpy as np\n",
    "import pandas as pd\n",
    "import tensorflow as tf\n",
    "from tensorflow.keras import layers, models\n",
    "\n",
    "# Reproducibility\n",
    "np.random.seed(7)\n",
    "tf.random.set_seed(7)\n",
    "\n",
    "print(\"Python:\", sys.executable, platform.python_version())\n",
    "print(\"TensorFlow:\", tf.__version__)\n",
    "assert tuple(map(int, tf.__version__.split('.')[:2])) >= (2, 15), \"Use TF 2.15+ in the fedci kernel.\"\n"
   ]
  },
  {
   "cell_type": "code",
   "execution_count": 11,
   "id": "70025fbf-ae4d-459d-b80f-d748faef865a",
   "metadata": {},
   "outputs": [
    {
     "data": {
      "text/plain": [
       "['100_annotations_1.csv',\n",
       " '100_annotations_1.json',\n",
       " '100_ekg.csv',\n",
       " '100_ekg.json',\n",
       " '101_annotations_1.csv',\n",
       " '101_annotations_1.json',\n",
       " '101_ekg.csv',\n",
       " '101_ekg.json',\n",
       " '102_annotations_1.csv',\n",
       " '102_annotations_1.json',\n",
       " '102_ekg.csv',\n",
       " '102_ekg.json']"
      ]
     },
     "execution_count": 11,
     "metadata": {},
     "output_type": "execute_result"
    }
   ],
   "source": [
    "# CHANGE THIS to the folder that contains files like 100_ekg.csv, 100_annotations_1.csv, etc.\n",
    "DATA_DIR = r\"D:\\hippo file transfer\\Amrita\\AMRITA\\AMRITA 1st Year\\CI\\archive\"\n",
    "\n",
    "if not os.path.isdir(DATA_DIR):\n",
    "    raise FileNotFoundError(f\"DATA_DIR not found: {DATA_DIR}\")\n",
    "\n",
    "# quick peek\n",
    "files = sorted([f for f in os.listdir(DATA_DIR) if f.endswith((\"_ekg.csv\",\"_ekg.json\",\"_annotations_1.csv\",\"_annotations_1.json\"))])[:12]\n",
    "files\n"
   ]
  },
  {
   "cell_type": "code",
   "execution_count": 12,
   "id": "bcddb212-24b1-4f13-be2d-4c1ae9d77f20",
   "metadata": {},
   "outputs": [
    {
     "data": {
      "text/plain": [
       "{'N': 'N',\n",
       " 'L': 'N',\n",
       " 'R': 'N',\n",
       " 'e': 'N',\n",
       " 'j': 'N',\n",
       " 'S': 'S',\n",
       " 'A': 'S',\n",
       " 'a': 'S',\n",
       " 'J': 'S',\n",
       " 'V': 'V',\n",
       " 'E': 'V',\n",
       " 'F': 'F',\n",
       " '/': 'Q',\n",
       " 'Q': 'Q',\n",
       " '?': 'Q'}"
      ]
     },
     "execution_count": 12,
     "metadata": {},
     "output_type": "execute_result"
    }
   ],
   "source": [
    "SYMBOL_MAP_PATH = os.path.join(DATA_DIR, \"annotation_symbols.csv\")\n",
    "\n",
    "# Default mapping; will be overridden if your CSV has aami_class.\n",
    "AAMI_MAP = {\n",
    "    'N':'N','L':'N','R':'N','e':'N','j':'N',    # Normal\n",
    "    'S':'S','A':'S','a':'S','J':'S',            # Supraventricular\n",
    "    'V':'V','E':'V',                            # Ventricular\n",
    "    'F':'F',                                    # Fusion\n",
    "    '/':'Q','Q':'Q','?':'Q'                     # Unknown / paced / etc.\n",
    "}\n",
    "# Non-beat / rhythm markers we skip when cutting beats\n",
    "NON_BEAT = set(['+', '~', '|', '\"', '!', '[', ']', 'p', 't', 'u', 'B', 'x'])\n",
    "\n",
    "if os.path.exists(SYMBOL_MAP_PATH):\n",
    "    dfm = pd.read_csv(SYMBOL_MAP_PATH)\n",
    "    if {\"symbol\",\"aami_class\"}.issubset(dfm.columns):\n",
    "        for _, r in dfm.iterrows():\n",
    "            s = str(r[\"symbol\"]).strip()\n",
    "            c = (str(r[\"aami_class\"]).strip().upper()\n",
    "                 if pd.notna(r[\"aami_class\"]) else None)\n",
    "            if c in {'N','S','V','F','Q'}:\n",
    "                AAMI_MAP[s] = c\n",
    "\n",
    "AAMI_MAP\n"
   ]
  },
  {
   "cell_type": "code",
   "execution_count": 13,
   "id": "e6b8d30d-0c27-46c6-a493-b8f705ddcb1c",
   "metadata": {},
   "outputs": [
    {
     "name": "stdout",
     "output_type": "stream",
     "text": [
      "Processed 10/48 records...\n",
      "Processed 20/48 records...\n",
      "Processed 30/48 records...\n",
      "Processed 40/48 records...\n",
      "Built beats in 7.5s | X:(109462, 216) y:(109462,)\n",
      "Class counts: {'F': 802, 'N': 90603, 'Q': 8041, 'S': 2781, 'V': 7235}\n"
     ]
    }
   ],
   "source": [
    "def choose_lead(df: pd.DataFrame) -> str:\n",
    "    # Prefer common leads if present\n",
    "    for c in ['MLII','ML2','II','V5']:\n",
    "        if c in df.columns and pd.api.types.is_numeric_dtype(df[c]):\n",
    "            return c\n",
    "    # Fallback: first numeric column\n",
    "    for c in df.columns:\n",
    "        if pd.api.types.is_numeric_dtype(df[c]):\n",
    "            return c\n",
    "    raise ValueError(\"No numeric signal column found in EKG file.\")\n",
    "\n",
    "def read_record_pair(rec_id: str, base: str):\n",
    "    ekg_csv = os.path.join(base, f\"{rec_id}_ekg.csv\")\n",
    "    ann_csv = os.path.join(base, f\"{rec_id}_annotations_1.csv\")\n",
    "    ekg_json = os.path.join(base, f\"{rec_id}_ekg.json\")\n",
    "    ann_json = os.path.join(base, f\"{rec_id}_annotations_1.json\")\n",
    "\n",
    "    # --- signal\n",
    "    if os.path.exists(ekg_csv):\n",
    "        df_sig = pd.read_csv(ekg_csv)\n",
    "    elif os.path.exists(ekg_json):\n",
    "        data = json.load(open(ekg_json))\n",
    "        df_sig = pd.DataFrame(data)\n",
    "    else:\n",
    "        return None\n",
    "\n",
    "    lead = choose_lead(df_sig)\n",
    "    sig = df_sig[lead].astype('float32').values\n",
    "\n",
    "    # --- annotations\n",
    "    pairs = None\n",
    "    if os.path.exists(ann_csv):\n",
    "        df_ann = pd.read_csv(ann_csv)\n",
    "        # pick columns robustly\n",
    "        idx_candidates = [c for c in df_ann.columns if c.lower() in ('index','sample','pos','r')]\n",
    "        sym_candidates = [c for c in df_ann.columns if ('symbol' in c.lower()) or ('label' in c.lower()) or (c.lower()=='type')]\n",
    "        if not idx_candidates or not sym_candidates:\n",
    "            return None\n",
    "        idx_col, sym_col = idx_candidates[0], sym_candidates[0]\n",
    "        pairs = list(zip(df_ann[idx_col].astype(int).tolist(), df_ann[sym_col].astype(str).tolist()))\n",
    "    elif os.path.exists(ann_json):\n",
    "        data = json.load(open(ann_json))\n",
    "        if isinstance(data, list):\n",
    "            pairs = [(int(x.get('index', x.get('sample'))), str(x.get('symbol', x.get('label')))) for x in data]\n",
    "        else:\n",
    "            idxs = [int(i) for i in data.get('index', data.get('sample', []))]\n",
    "            syms = [str(s) for s in data.get('symbol', data.get('label', []))]\n",
    "            pairs = list(zip(idxs, syms))\n",
    "    else:\n",
    "        return None\n",
    "\n",
    "    return sig, pairs, lead\n",
    "\n",
    "def cut_beats(signal: np.ndarray, ann_pairs, fs=360, win_sec=0.6):\n",
    "    \"\"\"\n",
    "    Centered window on each annotated R index. 0.6 s @ 360 Hz => 216 samples (108 on each side).\n",
    "    \"\"\"\n",
    "    half = int(fs * win_sec / 2)\n",
    "    X, y = [], []\n",
    "    for idx, sym in ann_pairs:\n",
    "        if sym in NON_BEAT:\n",
    "            continue\n",
    "        label = AAMI_MAP.get(sym, 'Q')\n",
    "        s, e = idx - half, idx + half\n",
    "        if s < 0 or e > len(signal):\n",
    "            continue\n",
    "        X.append(signal[s:e])\n",
    "        y.append(label)\n",
    "    return np.asarray(X, dtype='float32'), np.asarray(y)\n",
    "\n",
    "# collect record IDs\n",
    "rec_ids = sorted({f.split('_')[0] for f in os.listdir(DATA_DIR)\n",
    "                  if f.endswith(('_ekg.csv','_ekg.json'))})\n",
    "if not rec_ids:\n",
    "    raise RuntimeError(\"No *_ekg files found in DATA_DIR.\")\n",
    "\n",
    "# build\n",
    "FS, WIN = 360, 0.6\n",
    "X_list, y_list, rid_list, per_rec = [], [], [], {}\n",
    "t0 = time.time()\n",
    "for k, rid in enumerate(rec_ids, 1):\n",
    "    out = read_record_pair(rid, DATA_DIR)\n",
    "    if out is None:\n",
    "        continue\n",
    "    sig, pairs, lead = out\n",
    "    Xr, yr = cut_beats(sig, pairs, fs=FS, win_sec=WIN)\n",
    "    if len(Xr) == 0:\n",
    "        continue\n",
    "    X_list.append(Xr)\n",
    "    y_list.append(yr)\n",
    "    rid_list.append(np.array([rid]*len(yr)))\n",
    "    per_rec[rid] = {\n",
    "        \"lead\": lead,\n",
    "        \"n_beats\": int(len(yr)),\n",
    "        \"counts\": {c:int((yr==c).sum()) for c in np.unique(yr)}\n",
    "    }\n",
    "    if k % 10 == 0:\n",
    "        print(f\"Processed {k}/{len(rec_ids)} records...\")\n",
    "\n",
    "X = np.concatenate(X_list, axis=0)\n",
    "y = np.concatenate(y_list, axis=0)\n",
    "rid_arr = np.concatenate(rid_list, axis=0)\n",
    "\n",
    "print(f\"Built beats in {time.time()-t0:.1f}s | X:{X.shape} y:{y.shape}\")\n",
    "print(\"Class counts:\", {c:int((y==c).sum()) for c in np.unique(y)})\n"
   ]
  },
  {
   "cell_type": "code",
   "execution_count": 14,
   "id": "c2c81131-4e8b-482a-88d6-aaa7392a7630",
   "metadata": {},
   "outputs": [
    {
     "name": "stdout",
     "output_type": "stream",
     "text": [
      "Train: (76621, 216, 1)  Test: (32841, 216, 1)\n"
     ]
    }
   ],
   "source": [
    "label_to_int = {'N':0,'S':1,'V':2,'F':3,'Q':4}\n",
    "y_int = np.array([label_to_int[c] for c in y], dtype=np.int64)\n",
    "\n",
    "rng = np.random.default_rng(0)\n",
    "idx_all = np.arange(len(y_int))\n",
    "train_idx, test_idx = [], []\n",
    "\n",
    "for cls in sorted(set(y_int.tolist())):\n",
    "    cls_idx = idx_all[y_int == cls]\n",
    "    rng.shuffle(cls_idx)\n",
    "    n = len(cls_idx)\n",
    "    n_train = int(0.7 * n)\n",
    "    train_idx += cls_idx[:n_train].tolist()\n",
    "    test_idx  += cls_idx[n_train:].tolist()\n",
    "\n",
    "train_idx = np.array(train_idx); test_idx = np.array(test_idx)\n",
    "\n",
    "X_train = X[train_idx][..., None]\n",
    "y_train = y_int[train_idx]\n",
    "rid_train = rid_arr[train_idx]\n",
    "\n",
    "X_test  = X[test_idx][..., None]\n",
    "y_test  = y_int[test_idx]\n",
    "\n",
    "print(\"Train:\", X_train.shape, \" Test:\", X_test.shape)\n"
   ]
  },
  {
   "cell_type": "code",
   "execution_count": 15,
   "id": "88a82eaf-c945-4ecb-acad-9ac501c9575c",
   "metadata": {},
   "outputs": [
    {
     "name": "stdout",
     "output_type": "stream",
     "text": [
      "Clients: 48 ; median beats/client: 1567\n"
     ]
    }
   ],
   "source": [
    "clients = {}\n",
    "client_ids = np.unique(rid_train)\n",
    "for cid in client_ids:\n",
    "    idx = np.where(rid_train == cid)[0]\n",
    "    # skip tiny clients that may cause instability (< 20 beats)\n",
    "    if len(idx) < 20:\n",
    "        continue\n",
    "    clients[cid] = (X_train[idx], y_train[idx])\n",
    "\n",
    "print(f\"Clients: {len(clients)} ; median beats/client:\",\n",
    "      int(np.median([len(v[1]) for v in clients.values()])))\n"
   ]
  },
  {
   "cell_type": "code",
   "execution_count": 16,
   "id": "89a218ce-5c16-4f1e-9e05-c68ca2d9347b",
   "metadata": {},
   "outputs": [],
   "source": [
    "#models and helpers\n",
    "def build_autoencoder(input_len: int) -> tf.keras.Model:\n",
    "    inp = layers.Input((input_len, 1))\n",
    "    # Encoder\n",
    "    x = layers.Conv1D(32, 3, padding='same', activation='relu')(inp)\n",
    "    x = layers.MaxPool1D(2)(x)\n",
    "    x = layers.Conv1D(64, 3, padding='same', activation='relu')(x)\n",
    "    x = layers.MaxPool1D(2)(x)\n",
    "    x = layers.Conv1D(128, 3, padding='same', activation='relu')(x)\n",
    "    enc = layers.MaxPool1D(2, name=\"enc_out\")(x)\n",
    "    # Decoder\n",
    "    x = layers.UpSampling1D(2)(enc)\n",
    "    x = layers.Conv1D(64, 3, padding='same', activation='relu')(x)\n",
    "    x = layers.UpSampling1D(2)(x)\n",
    "    x = layers.Conv1D(32, 3, padding='same', activation='relu')(x)\n",
    "    x = layers.UpSampling1D(2)(x)\n",
    "    out = layers.Conv1D(1, 3, padding='same')(x)\n",
    "    ae = models.Model(inp, out, name='ae')\n",
    "    ae.compile(optimizer=tf.keras.optimizers.RMSprop(), loss='mae')\n",
    "    return ae\n",
    "\n",
    "def extract_encoder(ae: tf.keras.Model) -> tf.keras.Model:\n",
    "    return models.Model(ae.input, ae.get_layer(\"enc_out\").output, name=\"encoder\")\n",
    "\n",
    "def build_classifier(encoder: tf.keras.Model, n_classes=5, freeze_encoder=True) -> tf.keras.Model:\n",
    "    inp = layers.Input(encoder.input_shape[1:])\n",
    "    x = encoder(inp)\n",
    "    if freeze_encoder:\n",
    "        encoder.trainable = False\n",
    "    x = layers.Conv1D(128, 3, padding='same', activation='relu')(x)\n",
    "    x = layers.GlobalAveragePooling1D()(x)\n",
    "    x = layers.Dense(128, activation='relu')(x)\n",
    "    out = layers.Dense(n_classes, activation='softmax')(x)\n",
    "    clf = models.Model(inp, out, name='clf')\n",
    "    clf.compile(optimizer=tf.keras.optimizers.Adam(1e-3),\n",
    "                loss='sparse_categorical_crossentropy',\n",
    "                metrics=['accuracy'])\n",
    "    return clf\n",
    "\n",
    "def fedavg(weight_sets, sizes):\n",
    "    total = np.sum(sizes)\n",
    "    return [sum(ws[i]*sizes[k] for k,ws in enumerate(weight_sets)) / total\n",
    "            for i in range(len(weight_sets[0]))]\n",
    "\n",
    "def add_noise(X, pct=0.2, seed=7):\n",
    "    rng = np.random.default_rng(seed)\n",
    "    std = X.std(axis=1, keepdims=True) + 1e-8\n",
    "    return X + rng.normal(0,1,size=X.shape)*std*pct\n"
   ]
  },
  {
   "cell_type": "code",
   "execution_count": 17,
   "id": "b365cdfc-0a7d-4cd9-9508-78c34e0bcfac",
   "metadata": {
    "scrolled": true
   },
   "outputs": [
    {
     "name": "stdout",
     "output_type": "stream",
     "text": [
      "WARNING:tensorflow:From D:\\Anaconda3\\envs\\fedci\\lib\\site-packages\\keras\\src\\backend.py:1398: The name tf.executing_eagerly_outside_functions is deprecated. Please use tf.compat.v1.executing_eagerly_outside_functions instead.\n",
      "\n",
      "WARNING:tensorflow:From D:\\Anaconda3\\envs\\fedci\\lib\\site-packages\\keras\\src\\backend.py:6642: The name tf.nn.max_pool is deprecated. Please use tf.nn.max_pool2d instead.\n",
      "\n",
      "WARNING:tensorflow:From D:\\Anaconda3\\envs\\fedci\\lib\\site-packages\\keras\\src\\utils\\tf_utils.py:492: The name tf.ragged.RaggedTensorValue is deprecated. Please use tf.compat.v1.ragged.RaggedTensorValue instead.\n",
      "\n",
      "[AE] round 1/3 in 70.0s\n",
      "[AE] round 2/3 in 64.9s\n",
      "[AE] round 3/3 in 63.4s\n"
     ]
    }
   ],
   "source": [
    "#Stage A: Federated denoising Autoencoder\n",
    "\n",
    "INPUT_LEN = X.shape[1]\n",
    "BATCH = 256\n",
    "ROUNDS_AE, LOCAL_EPOCHS_AE = 3, 1  # increase later for quality\n",
    "\n",
    "ae_global = build_autoencoder(INPUT_LEN)\n",
    "\n",
    "for r in range(ROUNDS_AE):\n",
    "    w_list, n_list = [], []\n",
    "    t0 = time.time()\n",
    "    for cid, (Xi, _) in clients.items():\n",
    "        ae_local = build_autoencoder(INPUT_LEN)\n",
    "        ae_local.set_weights(ae_global.get_weights())\n",
    "        # 10–30% noise per client per round\n",
    "        Xi_noisy = add_noise(Xi.squeeze(-1), pct=float(np.random.uniform(0.10, 0.30)))[..., None]\n",
    "        ae_local.fit(Xi_noisy, Xi, epochs=LOCAL_EPOCHS_AE, batch_size=BATCH, verbose=0)\n",
    "        w_list.append(ae_local.get_weights())\n",
    "        n_list.append(len(Xi))\n",
    "    ae_global.set_weights(fedavg(w_list, n_list))\n",
    "    print(f\"[AE] round {r+1}/{ROUNDS_AE} in {time.time()-t0:.1f}s\")\n"
   ]
  },
  {
   "cell_type": "code",
   "execution_count": 18,
   "id": "e1bba918-d4db-41ae-8782-8a38513eb99d",
   "metadata": {},
   "outputs": [
    {
     "name": "stdout",
     "output_type": "stream",
     "text": [
      "WARNING:tensorflow:From D:\\Anaconda3\\envs\\fedci\\lib\\site-packages\\keras\\src\\engine\\base_layer_utils.py:384: The name tf.executing_eagerly_outside_functions is deprecated. Please use tf.compat.v1.executing_eagerly_outside_functions instead.\n",
      "\n",
      "[CLF] round 1/5 | train-sample acc: 0.8462 in 35.2s\n",
      "[CLF] round 2/5 | train-sample acc: 0.8315 in 36.8s\n",
      "[CLF] round 3/5 | train-sample acc: 0.8247 in 34.1s\n",
      "[CLF] round 4/5 | train-sample acc: 0.8198 in 36.3s\n",
      "[CLF] round 5/5 | train-sample acc: 0.8306 in 40.7s\n"
     ]
    }
   ],
   "source": [
    "#Stage B: Transfer encoder → Federated classifier\n",
    "encoder = extract_encoder(ae_global) \n",
    "clf_global = build_classifier(encoder, n_classes=5, freeze_encoder=True)\n",
    "\n",
    "ROUNDS_CLF, LOCAL_EPOCHS_CLF = 5, 1  # increase later for accuracy\n",
    "\n",
    "for r in range(ROUNDS_CLF):\n",
    "    w_list, n_list = [], []\n",
    "    t0 = time.time()\n",
    "    for cid, (Xi, yi) in clients.items():\n",
    "        clf_local = build_classifier(encoder, n_classes=5, freeze_encoder=True)\n",
    "        clf_local.set_weights(clf_global.get_weights())\n",
    "        clf_local.fit(Xi, yi, epochs=LOCAL_EPOCHS_CLF, batch_size=BATCH, verbose=0)\n",
    "        w_list.append(clf_local.get_weights())\n",
    "        n_list.append(len(Xi))\n",
    "    clf_global.set_weights(fedavg(w_list, n_list))\n",
    "\n",
    "    # light sanity ping on a small slice\n",
    "    s = min(4096, len(y_train))\n",
    "    idx = np.random.choice(len(y_train), size=s, replace=False)\n",
    "    _, acc = clf_global.evaluate(X_train[idx], y_train[idx], verbose=0)\n",
    "    print(f\"[CLF] round {r+1}/{ROUNDS_CLF} | train-sample acc: {acc:.4f} in {time.time()-t0:.1f}s\")\n"
   ]
  },
  {
   "cell_type": "code",
   "execution_count": 19,
   "id": "4e257d99-964d-48ad-81e6-4b7e7b2c5ddf",
   "metadata": {},
   "outputs": [
    {
     "name": "stdout",
     "output_type": "stream",
     "text": [
      "\n",
      "FINAL TEST ACCURACY (30% holdout): 0.8277\n",
      "       N  S  V  F  Q\n",
      "N  27181  0  0  0  0\n",
      "S    835  0  0  0  0\n",
      "V   2171  0  0  0  0\n",
      "F    241  0  0  0  0\n",
      "Q   2413  0  0  0  0\n"
     ]
    }
   ],
   "source": [
    "#Final evaluation on the 30% holdout\n",
    "\n",
    "test_loss, test_acc = clf_global.evaluate(X_test, y_test, verbose=0)\n",
    "print(f\"\\nFINAL TEST ACCURACY (30% holdout): {test_acc:.4f}\")\n",
    "\n",
    "def confusion_matrix_np(y_true, y_pred, n=5):\n",
    "    cm = np.zeros((n,n), dtype=int)\n",
    "    for t,p in zip(y_true, y_pred):\n",
    "        cm[int(t), int(p)] += 1\n",
    "    return cm\n",
    "\n",
    "y_pred = np.argmax(clf_global.predict(X_test, verbose=0), axis=1)\n",
    "cm = confusion_matrix_np(y_test, y_pred, n=5)\n",
    "print(pd.DataFrame(cm, index=['N','S','V','F','Q'], columns=['N','S','V','F','Q']))\n"
   ]
  },
  {
   "cell_type": "code",
   "execution_count": 20,
   "id": "19234213-00e3-47e2-94f3-a1f753b12fc9",
   "metadata": {},
   "outputs": [
    {
     "name": "stdout",
     "output_type": "stream",
     "text": [
      "✅ Models and artifacts saved in both .keras and .h5 formats inside ./artifacts\n"
     ]
    },
    {
     "name": "stderr",
     "output_type": "stream",
     "text": [
      "D:\\Anaconda3\\envs\\fedci\\lib\\site-packages\\keras\\src\\engine\\training.py:3103: UserWarning: You are saving your model as an HDF5 file via `model.save()`. This file format is considered legacy. We recommend using instead the native Keras format, e.g. `model.save('my_model.keras')`.\n",
      "  saving_api.save_model(\n"
     ]
    }
   ],
   "source": [
    "#Save artifacts\n",
    "import os\n",
    "from tensorflow.keras.models import save_model\n",
    "\n",
    "# Create artifacts folder\n",
    "os.makedirs(\"artifacts\", exist_ok=True)\n",
    "\n",
    "# Save classifier and autoencoder in both formats\n",
    "clf_global.save(\"artifacts/fed_classifier_ae_transfer.keras\")   # new format\n",
    "clf_global.save(\"artifacts/fed_classifier_ae_transfer.h5\")      # legacy HDF5\n",
    "\n",
    "ae_global.save(\"artifacts/fed_autoencoder.keras\")               # new format\n",
    "ae_global.save(\"artifacts/fed_autoencoder.h5\")                  # legacy HDF5\n",
    "\n",
    "# Save split indices + label mapping\n",
    "np.savez(\n",
    "    \"artifacts/split_70_30.npz\", \n",
    "    train_idx=train_idx,\n",
    "    test_idx=test_idx,\n",
    "    label_to_int={'N':0,'S':1,'V':2,'F':3,'Q':4}\n",
    ")\n",
    "\n",
    "print(\"✅ Models and artifacts saved in both .keras and .h5 formats inside ./artifacts\")\n"
   ]
  },
  {
   "cell_type": "code",
   "execution_count": 22,
   "id": "0dcf0e24-fefa-4dec-aad4-025aafc6f2d2",
   "metadata": {},
   "outputs": [
    {
     "name": "stderr",
     "output_type": "stream",
     "text": [
      "WARNING:absl:Skipping variable loading for optimizer 'Adam', because it has 13 variables whereas the saved optimizer has 1 variables. \n"
     ]
    },
    {
     "name": "stdout",
     "output_type": "stream",
     "text": [
      "INFO:tensorflow:Assets written to: C:\\Users\\mhima\\AppData\\Local\\Temp\\tmpvhhav0iv\\assets\n"
     ]
    },
    {
     "name": "stderr",
     "output_type": "stream",
     "text": [
      "INFO:tensorflow:Assets written to: C:\\Users\\mhima\\AppData\\Local\\Temp\\tmpvhhav0iv\\assets\n"
     ]
    },
    {
     "name": "stdout",
     "output_type": "stream",
     "text": [
      "✅ Exported to artifacts/fed_classifier_ae_transfer.tflite\n"
     ]
    }
   ],
   "source": [
    "import tensorflow as tf\n",
    "\n",
    "# Load your saved model (use .keras if you followed best practice)\n",
    "clf_model = tf.keras.models.load_model(\"artifacts/fed_classifier_ae_transfer.keras\")\n",
    "\n",
    "# Convert to TensorFlow Lite\n",
    "converter = tf.lite.TFLiteConverter.from_keras_model(clf_model)\n",
    "\n",
    "# (Optional) enable optimizations to make it even smaller/faster\n",
    "converter.optimizations = [tf.lite.Optimize.DEFAULT]\n",
    "\n",
    "tflite_model = converter.convert()\n",
    "\n",
    "# Save .tflite file\n",
    "with open(\"artifacts/fed_classifier_ae_transfer.tflite\", \"wb\") as f:\n",
    "    f.write(tflite_model)\n",
    "\n",
    "print(\"✅ Exported to artifacts/fed_classifier_ae_transfer.tflite\")\n"
   ]
  },
  {
   "cell_type": "code",
   "execution_count": 22,
   "id": "f4cc3058-76f1-4feb-a225-90f5f7594016",
   "metadata": {
    "scrolled": true
   },
   "outputs": [
    {
     "name": "stdout",
     "output_type": "stream",
     "text": [
      "Input shape expected: [  1 216   1]\n",
      "Output shape: [1 5]\n",
      "Predicted probabilities: [[0.74832445 0.07887257 0.08622146 0.04350133 0.04308016]]\n",
      "Predicted class: 0\n"
     ]
    }
   ],
   "source": [
    "# Load back the TFLite model\n",
    "interpreter = tf.lite.Interpreter(model_path=\"artifacts/fed_classifier_ae_transfer.tflite\")\n",
    "interpreter.allocate_tensors()\n",
    "\n",
    "# Get input & output details\n",
    "input_details = interpreter.get_input_details()\n",
    "output_details = interpreter.get_output_details()\n",
    "\n",
    "print(\"Input shape expected:\", input_details[0]['shape'])\n",
    "print(\"Output shape:\", output_details[0]['shape'])\n",
    "\n",
    "# Test on a single beat from your test set\n",
    "sample = X_test[0:1]  # one ECG beat window\n",
    "sample = sample.astype('float32')\n",
    "\n",
    "interpreter.set_tensor(input_details[0]['index'], sample)\n",
    "interpreter.invoke()\n",
    "output_data = interpreter.get_tensor(output_details[0]['index'])\n",
    "\n",
    "print(\"Predicted probabilities:\", output_data)\n",
    "print(\"Predicted class:\", output_data.argmax())\n"
   ]
  },
  {
   "cell_type": "code",
   "execution_count": 25,
   "id": "b10afa00-f125-4254-899d-3c32c3190976",
   "metadata": {},
   "outputs": [
    {
     "name": "stdout",
     "output_type": "stream",
     "text": [
      " Predicted class: N\n"
     ]
    },
    {
     "data": {
      "text/html": [
       "<div>\n",
       "<style scoped>\n",
       "    .dataframe tbody tr th:only-of-type {\n",
       "        vertical-align: middle;\n",
       "    }\n",
       "\n",
       "    .dataframe tbody tr th {\n",
       "        vertical-align: top;\n",
       "    }\n",
       "\n",
       "    .dataframe thead th {\n",
       "        text-align: right;\n",
       "    }\n",
       "</style>\n",
       "<table border=\"1\" class=\"dataframe\">\n",
       "  <thead>\n",
       "    <tr style=\"text-align: right;\">\n",
       "      <th></th>\n",
       "      <th>Class</th>\n",
       "      <th>Probability</th>\n",
       "    </tr>\n",
       "  </thead>\n",
       "  <tbody>\n",
       "    <tr>\n",
       "      <th>0</th>\n",
       "      <td>N</td>\n",
       "      <td>43.22 %</td>\n",
       "    </tr>\n",
       "    <tr>\n",
       "      <th>1</th>\n",
       "      <td>V</td>\n",
       "      <td>18.52 %</td>\n",
       "    </tr>\n",
       "    <tr>\n",
       "      <th>2</th>\n",
       "      <td>S</td>\n",
       "      <td>14.93 %</td>\n",
       "    </tr>\n",
       "    <tr>\n",
       "      <th>3</th>\n",
       "      <td>Q</td>\n",
       "      <td>12.13 %</td>\n",
       "    </tr>\n",
       "    <tr>\n",
       "      <th>4</th>\n",
       "      <td>F</td>\n",
       "      <td>11.2 %</td>\n",
       "    </tr>\n",
       "  </tbody>\n",
       "</table>\n",
       "</div>"
      ],
      "text/plain": [
       "  Class Probability\n",
       "0     N     43.22 %\n",
       "1     V     18.52 %\n",
       "2     S     14.93 %\n",
       "3     Q     12.13 %\n",
       "4     F      11.2 %"
      ]
     },
     "metadata": {},
     "output_type": "display_data"
    }
   ],
   "source": [
    "import numpy as np\n",
    "import pandas as pd\n",
    "\n",
    "LABELS = ['N','S','V','F','Q']  # 0..4\n",
    "\n",
    "def predict_pretty_keras(beat_216_list, model):\n",
    "    \"\"\"\n",
    "    beat_216_list: list[float] of length 216 (one ECG beat window).\n",
    "    model: a compiled Keras model (e.g., clf_global).\n",
    "    \"\"\"\n",
    "    # shape to (1,216,1)\n",
    "    x = np.array(beat_216_list, dtype='float32').reshape(1, 216, 1)\n",
    "\n",
    "    # run prediction\n",
    "    probs = model.predict(x, verbose=0)[0]\n",
    "    pred_idx = int(np.argmax(probs))\n",
    "    pred_label = LABELS[pred_idx]\n",
    "\n",
    "    # make a nice table (sorted by probability)\n",
    "    df = pd.DataFrame({\n",
    "        \"Class\": LABELS,\n",
    "        \"Probability\": probs\n",
    "    }).sort_values(\"Probability\", ascending=False).reset_index(drop=True)\n",
    "    df[\"Probability\"] = (df[\"Probability\"]*100).round(2).astype(str)+\" %\"\n",
    "\n",
    "    print(\" Predicted class:\", pred_label)\n",
    "    display(df)\n",
    "\n",
    "# ----------- EXAMPLE USAGE ------------\n",
    "# 1) Paste your beat here (216 floats). Below is just a dummy placeholder:\n",
    "manual_beat = [0.0]*216\n",
    "\n",
    "# 2) Call with your trained model (clf_global should already be in memory)\n",
    "predict_pretty_keras(manual_beat, clf_global)\n"
   ]
  },
  {
   "cell_type": "code",
   "execution_count": 26,
   "id": "1ff89ec7-fbf7-47b9-b40e-6a662497ceb7",
   "metadata": {},
   "outputs": [
    {
     "data": {
      "image/png": "[encoded data removed]",
      "text/plain": [
       "<Figure size 1200x600 with 1 Axes>"
      ]
     },
     "metadata": {},
     "output_type": "display_data"
    }
   ],
   "source": [
    "import matplotlib.pyplot as plt\n",
    "from matplotlib.patches import FancyArrow\n",
    "\n",
    "# Create figure\n",
    "fig, ax = plt.subplots(figsize=(12,6))\n",
    "ax.axis(\"off\")\n",
    "\n",
    "# Encoder layers\n",
    "encoder_layers = [\"Input (216x1)\", \"Conv1D (32)\", \"MaxPool1D\", \n",
    "                  \"Conv1D (64)\", \"MaxPool1D\", \n",
    "                  \"Conv1D (128)\", \"MaxPool1D (Encoder Output)\"]\n",
    "\n",
    "# Decoder layers\n",
    "decoder_layers = [\"UpSampling1D\", \"Conv1D (64)\", \n",
    "                  \"UpSampling1D\", \"Conv1D (32)\", \n",
    "                  \"UpSampling1D\", \"Conv1D (1, Output)\"]\n",
    "\n",
    "# Position encoder\n",
    "x_enc = 0.1\n",
    "y = 0.8\n",
    "dy = -0.1\n",
    "\n",
    "for i, layer in enumerate(encoder_layers):\n",
    "    ax.text(x_enc, y + dy*i, layer, fontsize=10, ha=\"left\", va=\"center\",\n",
    "            bbox=dict(boxstyle=\"round,pad=0.3\", fc=\"lightblue\", ec=\"black\"))\n",
    "    if i > 0:\n",
    "        ax.add_patch(FancyArrow(x_enc-0.02, y+dy*(i-1)-0.02, 0, dy+0.02, \n",
    "                                width=0.002, head_width=0.02, head_length=0.02, color=\"black\"))\n",
    "\n",
    "# Position decoder\n",
    "x_dec = 0.55\n",
    "for i, layer in enumerate(decoder_layers):\n",
    "    ax.text(x_dec, y + dy*i, layer, fontsize=10, ha=\"left\", va=\"center\",\n",
    "            bbox=dict(boxstyle=\"round,pad=0.3\", fc=\"lightgreen\", ec=\"black\"))\n",
    "    if i > 0:\n",
    "        ax.add_patch(FancyArrow(x_dec-0.02, y+dy*(i-1)-0.02, 0, dy+0.02, \n",
    "                                width=0.002, head_width=0.02, head_length=0.02, color=\"black\"))\n",
    "\n",
    "# Connection between encoder and decoder\n",
    "ax.add_patch(FancyArrow(0.45, y+dy*(len(encoder_layers)-1), 0.1, 0, \n",
    "                        width=0.002, head_width=0.02, head_length=0.02, color=\"red\"))\n",
    "ax.text(0.35, y+dy*(len(encoder_layers)-1)-0.05, \"Latent Representation\", fontsize=10, color=\"red\")\n",
    "\n",
    "plt.tight_layout()\n",
    "plt.show()\n"
   ]
  },
  {
   "cell_type": "code",
   "execution_count": 27,
   "id": "983e5fdf-80d4-44a9-a5e4-b965bc3b277d",
   "metadata": {},
   "outputs": [
    {
     "data": {
      "image/png": "[encoded data removed]",
      "text/plain": [
       "<Figure size 1200x600 with 1 Axes>"
      ]
     },
     "metadata": {},
     "output_type": "display_data"
    }
   ],
   "source": [
    "import matplotlib.pyplot as plt\n",
    "import matplotlib.patches as mpatches\n",
    "\n",
    "# Create figure\n",
    "fig, ax = plt.subplots(figsize=(12,6))\n",
    "ax.axis('off')\n",
    "\n",
    "# Encoder blocks\n",
    "encoder_layers = [\"Input (216,1)\", \"Conv1D (32)\", \"MaxPool1D\", \"Conv1D (64)\", \"MaxPool1D\", \"Conv1D (128)\", \"MaxPool1D\"]\n",
    "decoder_layers = [\"UpSample1D\", \"Conv1D (64)\", \"UpSample1D\", \"Conv1D (32)\", \"UpSample1D\", \"Conv1D (1)\", \"Output (216,1)\"]\n",
    "\n",
    "# Plot encoder\n",
    "x, y = 0.1, 0.8\n",
    "for i, layer in enumerate(encoder_layers):\n",
    "    box = mpatches.FancyBboxPatch((x, y - i*0.1), 0.25, 0.08, boxstyle=\"round,pad=0.02\", fc=\"skyblue\", ec=\"black\")\n",
    "    ax.add_patch(box)\n",
    "    ax.text(x+0.125, y - i*0.1 + 0.04, layer, ha=\"center\", va=\"center\", fontsize=9)\n",
    "\n",
    "# Latent space\n",
    "latent_x, latent_y = x+0.4, y - 0.3\n",
    "box = mpatches.FancyBboxPatch((latent_x, latent_y), 0.25, 0.08, boxstyle=\"round,pad=0.02\", fc=\"lightcoral\", ec=\"black\")\n",
    "ax.add_patch(box)\n",
    "ax.text(latent_x+0.125, latent_y+0.04, \"Latent Space\", ha=\"center\", va=\"center\", fontsize=9)\n",
    "\n",
    "# Decoder\n",
    "dec_x = latent_x + 0.4\n",
    "for i, layer in enumerate(decoder_layers):\n",
    "    box = mpatches.FancyBboxPatch((dec_x, latent_y - i*0.1 + 0.3), 0.25, 0.08, boxstyle=\"round,pad=0.02\", fc=\"lightgreen\", ec=\"black\")\n",
    "    ax.add_patch(box)\n",
    "    ax.text(dec_x+0.125, latent_y - i*0.1 + 0.3 + 0.04, layer, ha=\"center\", va=\"center\", fontsize=9)\n",
    "\n",
    "# Title\n",
    "ax.set_title(\"Autoencoder Architecture for ECG Beats\", fontsize=14, weight=\"bold\")\n",
    "\n",
    "plt.show()\n"
   ]
  },
  {
   "cell_type": "code",
   "execution_count": null,
   "id": "fe51324b-efac-4fa4-8791-3bb2f0bb8bba",
   "metadata": {},
   "outputs": [],
   "source": []
  }
 ],
 "metadata": {
  "kernelspec": {
   "display_name": "Python (fedci)",
   "language": "python",
   "name": "fedci"
  },
  "language_info": {
   "codemirror_mode": {
    "name": "ipython",
    "version": 3
   },
   "file_extension": ".py",
   "mimetype": "text/x-python",
   "name": "python",
   "nbconvert_exporter": "python",
   "pygments_lexer": "ipython3",
   "version": "3.10.18"
  }
 },
 "nbformat": 4,
 "nbformat_minor": 5
}
